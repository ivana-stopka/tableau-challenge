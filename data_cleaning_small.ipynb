{
 "cells": [
  {
   "cell_type": "markdown",
   "id": "e869da58",
   "metadata": {},
   "source": [
    "# Citibike Data Processing (Small)"
   ]
  },
  {
   "cell_type": "code",
   "execution_count": 1,
   "id": "23d85202",
   "metadata": {},
   "outputs": [],
   "source": [
    "#Import dependencies\n",
    "import pandas as pd"
   ]
  },
  {
   "cell_type": "markdown",
   "id": "3e10d787",
   "metadata": {},
   "source": [
    "## 1. Import the raw data files"
   ]
  },
  {
   "cell_type": "code",
   "execution_count": 3,
   "id": "5da39143",
   "metadata": {},
   "outputs": [
    {
     "data": {
      "text/html": [
       "<div>\n",
       "<style scoped>\n",
       "    .dataframe tbody tr th:only-of-type {\n",
       "        vertical-align: middle;\n",
       "    }\n",
       "\n",
       "    .dataframe tbody tr th {\n",
       "        vertical-align: top;\n",
       "    }\n",
       "\n",
       "    .dataframe thead th {\n",
       "        text-align: right;\n",
       "    }\n",
       "</style>\n",
       "<table border=\"1\" class=\"dataframe\">\n",
       "  <thead>\n",
       "    <tr style=\"text-align: right;\">\n",
       "      <th></th>\n",
       "      <th>ride_id</th>\n",
       "      <th>rideable_type</th>\n",
       "      <th>started_at</th>\n",
       "      <th>ended_at</th>\n",
       "      <th>start_station_name</th>\n",
       "      <th>start_station_id</th>\n",
       "      <th>end_station_name</th>\n",
       "      <th>end_station_id</th>\n",
       "      <th>start_lat</th>\n",
       "      <th>start_lng</th>\n",
       "      <th>end_lat</th>\n",
       "      <th>end_lng</th>\n",
       "      <th>member_casual</th>\n",
       "    </tr>\n",
       "  </thead>\n",
       "  <tbody>\n",
       "    <tr>\n",
       "      <th>0</th>\n",
       "      <td>6339C86D47EC0FAB</td>\n",
       "      <td>docked_bike</td>\n",
       "      <td>2021-06-02 17:18:45</td>\n",
       "      <td>2021-06-02 17:26:17</td>\n",
       "      <td>W 51 St &amp; 6 Ave</td>\n",
       "      <td>6740.10</td>\n",
       "      <td>E 66 St &amp; Madison Ave</td>\n",
       "      <td>6969.08</td>\n",
       "      <td>40.760659</td>\n",
       "      <td>-73.980420</td>\n",
       "      <td>40.768009</td>\n",
       "      <td>-73.968453</td>\n",
       "      <td>member</td>\n",
       "    </tr>\n",
       "    <tr>\n",
       "      <th>1</th>\n",
       "      <td>CDE3C147775B4002</td>\n",
       "      <td>docked_bike</td>\n",
       "      <td>2021-06-04 21:01:46</td>\n",
       "      <td>2021-06-04 21:32:09</td>\n",
       "      <td>W 56 St &amp; 10 Ave</td>\n",
       "      <td>6955.01</td>\n",
       "      <td>E 9 St &amp; Avenue C</td>\n",
       "      <td>5616.01</td>\n",
       "      <td>40.768254</td>\n",
       "      <td>-73.988639</td>\n",
       "      <td>40.725213</td>\n",
       "      <td>-73.977688</td>\n",
       "      <td>member</td>\n",
       "    </tr>\n",
       "    <tr>\n",
       "      <th>2</th>\n",
       "      <td>D335C3F6B412B846</td>\n",
       "      <td>docked_bike</td>\n",
       "      <td>2021-06-15 16:39:36</td>\n",
       "      <td>2021-06-15 16:55:02</td>\n",
       "      <td>E 56 St &amp; Madison Ave</td>\n",
       "      <td>6732.01</td>\n",
       "      <td>E 16 St &amp; 5 Ave</td>\n",
       "      <td>6022.04</td>\n",
       "      <td>40.761573</td>\n",
       "      <td>-73.972628</td>\n",
       "      <td>40.737262</td>\n",
       "      <td>-73.992390</td>\n",
       "      <td>member</td>\n",
       "    </tr>\n",
       "    <tr>\n",
       "      <th>3</th>\n",
       "      <td>8DA6810777C89735</td>\n",
       "      <td>docked_bike</td>\n",
       "      <td>2021-06-08 11:36:40</td>\n",
       "      <td>2021-06-08 11:39:41</td>\n",
       "      <td>E 68 St &amp; 3 Ave</td>\n",
       "      <td>6896.16</td>\n",
       "      <td>1 Ave &amp; E 62 St</td>\n",
       "      <td>6753.08</td>\n",
       "      <td>40.767128</td>\n",
       "      <td>-73.962246</td>\n",
       "      <td>40.761227</td>\n",
       "      <td>-73.960940</td>\n",
       "      <td>member</td>\n",
       "    </tr>\n",
       "    <tr>\n",
       "      <th>4</th>\n",
       "      <td>62D9B66A3A1D9FDF</td>\n",
       "      <td>docked_bike</td>\n",
       "      <td>2021-06-18 12:48:43</td>\n",
       "      <td>2021-06-18 13:04:14</td>\n",
       "      <td>E 48 St &amp; 5 Ave</td>\n",
       "      <td>6626.01</td>\n",
       "      <td>W 20 St &amp; 8 Ave</td>\n",
       "      <td>6224.05</td>\n",
       "      <td>40.757245</td>\n",
       "      <td>-73.978059</td>\n",
       "      <td>40.743453</td>\n",
       "      <td>-74.000040</td>\n",
       "      <td>member</td>\n",
       "    </tr>\n",
       "  </tbody>\n",
       "</table>\n",
       "</div>"
      ],
      "text/plain": [
       "            ride_id rideable_type           started_at             ended_at  \\\n",
       "0  6339C86D47EC0FAB   docked_bike  2021-06-02 17:18:45  2021-06-02 17:26:17   \n",
       "1  CDE3C147775B4002   docked_bike  2021-06-04 21:01:46  2021-06-04 21:32:09   \n",
       "2  D335C3F6B412B846   docked_bike  2021-06-15 16:39:36  2021-06-15 16:55:02   \n",
       "3  8DA6810777C89735   docked_bike  2021-06-08 11:36:40  2021-06-08 11:39:41   \n",
       "4  62D9B66A3A1D9FDF   docked_bike  2021-06-18 12:48:43  2021-06-18 13:04:14   \n",
       "\n",
       "      start_station_name  start_station_id       end_station_name  \\\n",
       "0        W 51 St & 6 Ave           6740.10  E 66 St & Madison Ave   \n",
       "1       W 56 St & 10 Ave           6955.01      E 9 St & Avenue C   \n",
       "2  E 56 St & Madison Ave           6732.01        E 16 St & 5 Ave   \n",
       "3        E 68 St & 3 Ave           6896.16        1 Ave & E 62 St   \n",
       "4        E 48 St & 5 Ave           6626.01        W 20 St & 8 Ave   \n",
       "\n",
       "  end_station_id  start_lat  start_lng    end_lat    end_lng member_casual  \n",
       "0        6969.08  40.760659 -73.980420  40.768009 -73.968453        member  \n",
       "1        5616.01  40.768254 -73.988639  40.725213 -73.977688        member  \n",
       "2        6022.04  40.761573 -73.972628  40.737262 -73.992390        member  \n",
       "3        6753.08  40.767128 -73.962246  40.761227 -73.960940        member  \n",
       "4        6224.05  40.757245 -73.978059  40.743453 -74.000040        member  "
      ]
     },
     "execution_count": 3,
     "metadata": {},
     "output_type": "execute_result"
    }
   ],
   "source": [
    "#Import the data files\n",
    "june_twentyOne = \"raw_data/202106-citibike-tripdata.csv\"\n",
    "june_twentyOne_df = pd.read_csv(june_twentyOne,low_memory=False)\n",
    "june_twentyOne_df.head()"
   ]
  },
  {
   "cell_type": "code",
   "execution_count": 27,
   "id": "f8169426",
   "metadata": {},
   "outputs": [
    {
     "data": {
      "text/html": [
       "<div>\n",
       "<style scoped>\n",
       "    .dataframe tbody tr th:only-of-type {\n",
       "        vertical-align: middle;\n",
       "    }\n",
       "\n",
       "    .dataframe tbody tr th {\n",
       "        vertical-align: top;\n",
       "    }\n",
       "\n",
       "    .dataframe thead th {\n",
       "        text-align: right;\n",
       "    }\n",
       "</style>\n",
       "<table border=\"1\" class=\"dataframe\">\n",
       "  <thead>\n",
       "    <tr style=\"text-align: right;\">\n",
       "      <th></th>\n",
       "      <th>ride_id</th>\n",
       "      <th>rideable_type</th>\n",
       "      <th>started_at</th>\n",
       "      <th>ended_at</th>\n",
       "      <th>start_station_name</th>\n",
       "      <th>start_station_id</th>\n",
       "      <th>end_station_name</th>\n",
       "      <th>end_station_id</th>\n",
       "      <th>start_lat</th>\n",
       "      <th>start_lng</th>\n",
       "      <th>end_lat</th>\n",
       "      <th>end_lng</th>\n",
       "      <th>member_casual</th>\n",
       "    </tr>\n",
       "  </thead>\n",
       "  <tbody>\n",
       "    <tr>\n",
       "      <th>0</th>\n",
       "      <td>E12103A91226099A</td>\n",
       "      <td>docked_bike</td>\n",
       "      <td>2021-05-06 17:25:01</td>\n",
       "      <td>2021-05-06 17:45:25</td>\n",
       "      <td>Broadway &amp; W 60 St</td>\n",
       "      <td>6948.11</td>\n",
       "      <td>1 Ave &amp; E 78 St</td>\n",
       "      <td>7020.09</td>\n",
       "      <td>40.769155</td>\n",
       "      <td>-73.981918</td>\n",
       "      <td>40.771404</td>\n",
       "      <td>-73.953517</td>\n",
       "      <td>member</td>\n",
       "    </tr>\n",
       "    <tr>\n",
       "      <th>1</th>\n",
       "      <td>26A3DC47FE0EA3A3</td>\n",
       "      <td>docked_bike</td>\n",
       "      <td>2021-05-13 12:48:08</td>\n",
       "      <td>2021-05-13 13:07:37</td>\n",
       "      <td>Broadway &amp; W 25 St</td>\n",
       "      <td>6173.08</td>\n",
       "      <td>E 2 St &amp; Avenue B</td>\n",
       "      <td>5515.02</td>\n",
       "      <td>40.742868</td>\n",
       "      <td>-73.989186</td>\n",
       "      <td>40.722174</td>\n",
       "      <td>-73.983688</td>\n",
       "      <td>member</td>\n",
       "    </tr>\n",
       "    <tr>\n",
       "      <th>2</th>\n",
       "      <td>A99F2E1D627B088F</td>\n",
       "      <td>docked_bike</td>\n",
       "      <td>2021-05-16 08:30:13</td>\n",
       "      <td>2021-05-16 08:45:47</td>\n",
       "      <td>46 Ave &amp; 5 St</td>\n",
       "      <td>6286.02</td>\n",
       "      <td>34th Ave &amp; Vernon Blvd</td>\n",
       "      <td>6873.01</td>\n",
       "      <td>40.747310</td>\n",
       "      <td>-73.954510</td>\n",
       "      <td>40.765354</td>\n",
       "      <td>-73.939863</td>\n",
       "      <td>member</td>\n",
       "    </tr>\n",
       "    <tr>\n",
       "      <th>3</th>\n",
       "      <td>43E79A45997B7390</td>\n",
       "      <td>docked_bike</td>\n",
       "      <td>2021-05-01 08:38:14</td>\n",
       "      <td>2021-05-01 08:54:27</td>\n",
       "      <td>46 Ave &amp; 5 St</td>\n",
       "      <td>6286.02</td>\n",
       "      <td>34th Ave &amp; Vernon Blvd</td>\n",
       "      <td>6873.01</td>\n",
       "      <td>40.747310</td>\n",
       "      <td>-73.954510</td>\n",
       "      <td>40.765354</td>\n",
       "      <td>-73.939863</td>\n",
       "      <td>member</td>\n",
       "    </tr>\n",
       "    <tr>\n",
       "      <th>4</th>\n",
       "      <td>8B3CC649F4F58816</td>\n",
       "      <td>docked_bike</td>\n",
       "      <td>2021-05-09 08:12:31</td>\n",
       "      <td>2021-05-09 08:27:05</td>\n",
       "      <td>46 Ave &amp; 5 St</td>\n",
       "      <td>6286.02</td>\n",
       "      <td>34th Ave &amp; Vernon Blvd</td>\n",
       "      <td>6873.01</td>\n",
       "      <td>40.747310</td>\n",
       "      <td>-73.954510</td>\n",
       "      <td>40.765354</td>\n",
       "      <td>-73.939863</td>\n",
       "      <td>member</td>\n",
       "    </tr>\n",
       "  </tbody>\n",
       "</table>\n",
       "</div>"
      ],
      "text/plain": [
       "            ride_id rideable_type           started_at             ended_at  \\\n",
       "0  E12103A91226099A   docked_bike  2021-05-06 17:25:01  2021-05-06 17:45:25   \n",
       "1  26A3DC47FE0EA3A3   docked_bike  2021-05-13 12:48:08  2021-05-13 13:07:37   \n",
       "2  A99F2E1D627B088F   docked_bike  2021-05-16 08:30:13  2021-05-16 08:45:47   \n",
       "3  43E79A45997B7390   docked_bike  2021-05-01 08:38:14  2021-05-01 08:54:27   \n",
       "4  8B3CC649F4F58816   docked_bike  2021-05-09 08:12:31  2021-05-09 08:27:05   \n",
       "\n",
       "   start_station_name start_station_id        end_station_name end_station_id  \\\n",
       "0  Broadway & W 60 St          6948.11         1 Ave & E 78 St        7020.09   \n",
       "1  Broadway & W 25 St          6173.08       E 2 St & Avenue B        5515.02   \n",
       "2       46 Ave & 5 St          6286.02  34th Ave & Vernon Blvd        6873.01   \n",
       "3       46 Ave & 5 St          6286.02  34th Ave & Vernon Blvd        6873.01   \n",
       "4       46 Ave & 5 St          6286.02  34th Ave & Vernon Blvd        6873.01   \n",
       "\n",
       "   start_lat  start_lng    end_lat    end_lng member_casual  \n",
       "0  40.769155 -73.981918  40.771404 -73.953517        member  \n",
       "1  40.742868 -73.989186  40.722174 -73.983688        member  \n",
       "2  40.747310 -73.954510  40.765354 -73.939863        member  \n",
       "3  40.747310 -73.954510  40.765354 -73.939863        member  \n",
       "4  40.747310 -73.954510  40.765354 -73.939863        member  "
      ]
     },
     "execution_count": 27,
     "metadata": {},
     "output_type": "execute_result"
    }
   ],
   "source": [
    "may_twentyOne = \"raw_data/202105-citibike-tripdata.csv\"\n",
    "may_twentyOne_df = pd.read_csv(may_twentyOne,low_memory=False)\n",
    "may_twentyOne_df.head()"
   ]
  },
  {
   "cell_type": "code",
   "execution_count": 5,
   "id": "6984b8e2",
   "metadata": {},
   "outputs": [
    {
     "data": {
      "text/html": [
       "<div>\n",
       "<style scoped>\n",
       "    .dataframe tbody tr th:only-of-type {\n",
       "        vertical-align: middle;\n",
       "    }\n",
       "\n",
       "    .dataframe tbody tr th {\n",
       "        vertical-align: top;\n",
       "    }\n",
       "\n",
       "    .dataframe thead th {\n",
       "        text-align: right;\n",
       "    }\n",
       "</style>\n",
       "<table border=\"1\" class=\"dataframe\">\n",
       "  <thead>\n",
       "    <tr style=\"text-align: right;\">\n",
       "      <th></th>\n",
       "      <th>ride_id</th>\n",
       "      <th>rideable_type</th>\n",
       "      <th>started_at</th>\n",
       "      <th>ended_at</th>\n",
       "      <th>start_station_name</th>\n",
       "      <th>start_station_id</th>\n",
       "      <th>end_station_name</th>\n",
       "      <th>end_station_id</th>\n",
       "      <th>start_lat</th>\n",
       "      <th>start_lng</th>\n",
       "      <th>end_lat</th>\n",
       "      <th>end_lng</th>\n",
       "      <th>member_casual</th>\n",
       "    </tr>\n",
       "  </thead>\n",
       "  <tbody>\n",
       "    <tr>\n",
       "      <th>0</th>\n",
       "      <td>7099F9531C9DA16D</td>\n",
       "      <td>docked_bike</td>\n",
       "      <td>2021-04-28 17:27:24</td>\n",
       "      <td>2021-04-28 17:34:31</td>\n",
       "      <td>DeKalb Ave &amp; Hudson Ave</td>\n",
       "      <td>4513.06</td>\n",
       "      <td>Douglass St &amp; 4 Ave</td>\n",
       "      <td>4175.14</td>\n",
       "      <td>40.689888</td>\n",
       "      <td>-73.981013</td>\n",
       "      <td>40.679279</td>\n",
       "      <td>-73.981540</td>\n",
       "      <td>member</td>\n",
       "    </tr>\n",
       "    <tr>\n",
       "      <th>1</th>\n",
       "      <td>EDC6F1B1A69A7863</td>\n",
       "      <td>docked_bike</td>\n",
       "      <td>2021-04-27 17:28:02</td>\n",
       "      <td>2021-04-27 17:33:07</td>\n",
       "      <td>E 47 St &amp; Park Ave</td>\n",
       "      <td>6584.12</td>\n",
       "      <td>W 52 St &amp; 6 Ave</td>\n",
       "      <td>6740.01</td>\n",
       "      <td>40.755102</td>\n",
       "      <td>-73.974986</td>\n",
       "      <td>40.761330</td>\n",
       "      <td>-73.979820</td>\n",
       "      <td>member</td>\n",
       "    </tr>\n",
       "    <tr>\n",
       "      <th>2</th>\n",
       "      <td>431A76830E10408A</td>\n",
       "      <td>docked_bike</td>\n",
       "      <td>2021-04-28 18:05:19</td>\n",
       "      <td>2021-04-28 18:10:48</td>\n",
       "      <td>E 47 St &amp; Park Ave</td>\n",
       "      <td>6584.12</td>\n",
       "      <td>W 52 St &amp; 6 Ave</td>\n",
       "      <td>6740.01</td>\n",
       "      <td>40.755102</td>\n",
       "      <td>-73.974986</td>\n",
       "      <td>40.761330</td>\n",
       "      <td>-73.979820</td>\n",
       "      <td>member</td>\n",
       "    </tr>\n",
       "    <tr>\n",
       "      <th>3</th>\n",
       "      <td>C00248A0ADC009FA</td>\n",
       "      <td>docked_bike</td>\n",
       "      <td>2021-04-20 21:35:47</td>\n",
       "      <td>2021-04-20 21:56:31</td>\n",
       "      <td>Irving Ave &amp; DeKalb Ave</td>\n",
       "      <td>4898.02</td>\n",
       "      <td>Division Ave &amp; Hooper St</td>\n",
       "      <td>5045.05</td>\n",
       "      <td>40.702700</td>\n",
       "      <td>-73.920950</td>\n",
       "      <td>40.706842</td>\n",
       "      <td>-73.954435</td>\n",
       "      <td>casual</td>\n",
       "    </tr>\n",
       "    <tr>\n",
       "      <th>4</th>\n",
       "      <td>BE78810D746EE516</td>\n",
       "      <td>docked_bike</td>\n",
       "      <td>2021-04-30 00:34:54</td>\n",
       "      <td>2021-04-30 01:03:29</td>\n",
       "      <td>3 Ave &amp; E 112 St</td>\n",
       "      <td>7543.15</td>\n",
       "      <td>E 115 St &amp; Lexington Ave</td>\n",
       "      <td>7599.09</td>\n",
       "      <td>40.795508</td>\n",
       "      <td>-73.941606</td>\n",
       "      <td>40.797911</td>\n",
       "      <td>-73.942300</td>\n",
       "      <td>casual</td>\n",
       "    </tr>\n",
       "  </tbody>\n",
       "</table>\n",
       "</div>"
      ],
      "text/plain": [
       "            ride_id rideable_type           started_at             ended_at  \\\n",
       "0  7099F9531C9DA16D   docked_bike  2021-04-28 17:27:24  2021-04-28 17:34:31   \n",
       "1  EDC6F1B1A69A7863   docked_bike  2021-04-27 17:28:02  2021-04-27 17:33:07   \n",
       "2  431A76830E10408A   docked_bike  2021-04-28 18:05:19  2021-04-28 18:10:48   \n",
       "3  C00248A0ADC009FA   docked_bike  2021-04-20 21:35:47  2021-04-20 21:56:31   \n",
       "4  BE78810D746EE516   docked_bike  2021-04-30 00:34:54  2021-04-30 01:03:29   \n",
       "\n",
       "        start_station_name start_station_id          end_station_name  \\\n",
       "0  DeKalb Ave & Hudson Ave          4513.06       Douglass St & 4 Ave   \n",
       "1       E 47 St & Park Ave          6584.12           W 52 St & 6 Ave   \n",
       "2       E 47 St & Park Ave          6584.12           W 52 St & 6 Ave   \n",
       "3  Irving Ave & DeKalb Ave          4898.02  Division Ave & Hooper St   \n",
       "4         3 Ave & E 112 St          7543.15  E 115 St & Lexington Ave   \n",
       "\n",
       "  end_station_id  start_lat  start_lng    end_lat    end_lng member_casual  \n",
       "0        4175.14  40.689888 -73.981013  40.679279 -73.981540        member  \n",
       "1        6740.01  40.755102 -73.974986  40.761330 -73.979820        member  \n",
       "2        6740.01  40.755102 -73.974986  40.761330 -73.979820        member  \n",
       "3        5045.05  40.702700 -73.920950  40.706842 -73.954435        casual  \n",
       "4        7599.09  40.795508 -73.941606  40.797911 -73.942300        casual  "
      ]
     },
     "execution_count": 5,
     "metadata": {},
     "output_type": "execute_result"
    }
   ],
   "source": [
    "april_twentyOne = \"raw_data/202104-citibike-tripdata.csv\"\n",
    "april_twentyOne_df = pd.read_csv(april_twentyOne,low_memory=False)\n",
    "april_twentyOne_df.head()"
   ]
  },
  {
   "cell_type": "markdown",
   "id": "5eff5c4d",
   "metadata": {},
   "source": [
    "## 2. Cleaning the Data"
   ]
  },
  {
   "cell_type": "code",
   "execution_count": 12,
   "id": "25340dc6",
   "metadata": {},
   "outputs": [
    {
     "data": {
      "text/plain": [
       "ride_id                object\n",
       "rideable_type          object\n",
       "started_at             object\n",
       "ended_at               object\n",
       "start_station_name     object\n",
       "start_station_id      float64\n",
       "end_station_name       object\n",
       "end_station_id         object\n",
       "start_lat             float64\n",
       "start_lng             float64\n",
       "end_lat               float64\n",
       "end_lng               float64\n",
       "member_casual          object\n",
       "dtype: object"
      ]
     },
     "execution_count": 12,
     "metadata": {},
     "output_type": "execute_result"
    }
   ],
   "source": [
    "# Check data for missing data and drop any rows with missing values.\n",
    "#june_twentyOne_df.dtypes\n",
    "#june_twentyOne_df.count()\n",
    "#june_twentyOne_clean_df=june_twentyOne_df.dropna(how=\"any\")\n",
    "#june_twentyOne_clean_df.count()\n",
    "june_twentyOne_clean_df.dtypes"
   ]
  },
  {
   "cell_type": "code",
   "execution_count": 59,
   "id": "230b966f",
   "metadata": {},
   "outputs": [
    {
     "data": {
      "text/plain": [
       "docked_bike     2051348\n",
       "classic_bike    1115844\n",
       "Name: rideable_type, dtype: int64"
      ]
     },
     "execution_count": 59,
     "metadata": {},
     "output_type": "execute_result"
    }
   ],
   "source": [
    "# Checked each column to make sure values made sense.\n",
    "june_twentyOne_clean_df[\"rideable_type\"].value_counts()"
   ]
  },
  {
   "cell_type": "code",
   "execution_count": 28,
   "id": "b5b06b08",
   "metadata": {},
   "outputs": [
    {
     "data": {
      "text/plain": [
       "ride_id                object\n",
       "rideable_type          object\n",
       "started_at             object\n",
       "ended_at               object\n",
       "start_station_name     object\n",
       "start_station_id       object\n",
       "end_station_name       object\n",
       "end_station_id         object\n",
       "start_lat             float64\n",
       "start_lng             float64\n",
       "end_lat               float64\n",
       "end_lng               float64\n",
       "member_casual          object\n",
       "dtype: object"
      ]
     },
     "execution_count": 28,
     "metadata": {},
     "output_type": "execute_result"
    }
   ],
   "source": [
    "# Checking dtypes and noting that start_station_id is not float as per June data\n",
    "may_twentyOne_df.dtypes"
   ]
  },
  {
   "cell_type": "code",
   "execution_count": 31,
   "id": "e8e9c198",
   "metadata": {},
   "outputs": [
    {
     "data": {
      "text/plain": [
       "ride_id               2718594\n",
       "rideable_type         2718594\n",
       "started_at            2718594\n",
       "ended_at              2718594\n",
       "start_station_name    2718594\n",
       "start_station_id      2718594\n",
       "end_station_name      2718594\n",
       "end_station_id        2718594\n",
       "start_lat             2718594\n",
       "start_lng             2718594\n",
       "end_lat               2718594\n",
       "end_lng               2718594\n",
       "member_casual         2718594\n",
       "dtype: int64"
      ]
     },
     "execution_count": 31,
     "metadata": {},
     "output_type": "execute_result"
    }
   ],
   "source": [
    "# Doing a count and removing any NaN values as a first step\n",
    "#may_twentyOne_df.count()\n",
    "may_twentyOne_clean_df=may_twentyOne_df.dropna(how=\"any\")\n",
    "may_twentyOne_clean_df.count()"
   ]
  },
  {
   "cell_type": "code",
   "execution_count": 34,
   "id": "e93d49e3",
   "metadata": {},
   "outputs": [
    {
     "name": "stderr",
     "output_type": "stream",
     "text": [
      "<ipython-input-34-5104cba8da07>:2: SettingWithCopyWarning: \n",
      "A value is trying to be set on a copy of a slice from a DataFrame.\n",
      "Try using .loc[row_indexer,col_indexer] = value instead\n",
      "\n",
      "See the caveats in the documentation: https://pandas.pydata.org/pandas-docs/stable/user_guide/indexing.html#returning-a-view-versus-a-copy\n",
      "  may_twentyOne_clean_df[\"start_station_id\"]=pd.to_numeric(may_twentyOne_clean_df[\"start_station_id\"])\n"
     ]
    },
    {
     "data": {
      "text/plain": [
       "ride_id                object\n",
       "rideable_type          object\n",
       "started_at             object\n",
       "ended_at               object\n",
       "start_station_name     object\n",
       "start_station_id      float64\n",
       "end_station_name       object\n",
       "end_station_id         object\n",
       "start_lat             float64\n",
       "start_lng             float64\n",
       "end_lat               float64\n",
       "end_lng               float64\n",
       "member_casual          object\n",
       "dtype: object"
      ]
     },
     "execution_count": 34,
     "metadata": {},
     "output_type": "execute_result"
    }
   ],
   "source": [
    "# Changing start_station_id to numeric as per June 2021 data\n",
    "may_twentyOne_clean_df[\"start_station_id\"]=pd.to_numeric(may_twentyOne_clean_df[\"start_station_id\"])\n",
    "may_twentyOne_clean_df.dtypes"
   ]
  },
  {
   "cell_type": "code",
   "execution_count": 38,
   "id": "ee3db4e9",
   "metadata": {},
   "outputs": [
    {
     "data": {
      "text/plain": [
       "member    1910911\n",
       "casual     807683\n",
       "Name: member_casual, dtype: int64"
      ]
     },
     "execution_count": 38,
     "metadata": {},
     "output_type": "execute_result"
    }
   ],
   "source": [
    "# Checked each column to make sure values made sense.\n",
    "may_twentyOne_clean_df[\"member_casual\"].value_counts()"
   ]
  },
  {
   "cell_type": "code",
   "execution_count": 40,
   "id": "687cddaa",
   "metadata": {},
   "outputs": [
    {
     "data": {
      "text/plain": [
       "ride_id                object\n",
       "rideable_type          object\n",
       "started_at             object\n",
       "ended_at               object\n",
       "start_station_name     object\n",
       "start_station_id       object\n",
       "end_station_name       object\n",
       "end_station_id         object\n",
       "start_lat             float64\n",
       "start_lng             float64\n",
       "end_lat               float64\n",
       "end_lng               float64\n",
       "member_casual          object\n",
       "dtype: object"
      ]
     },
     "execution_count": 40,
     "metadata": {},
     "output_type": "execute_result"
    }
   ],
   "source": [
    "# Checking dtypes and noting that start_station_id is not float as per June data\n",
    "april_twentyOne_df.dtypes"
   ]
  },
  {
   "cell_type": "code",
   "execution_count": 42,
   "id": "7884531f",
   "metadata": {},
   "outputs": [
    {
     "data": {
      "text/plain": [
       "ride_id               2064277\n",
       "rideable_type         2064277\n",
       "started_at            2064277\n",
       "ended_at              2064277\n",
       "start_station_name    2064277\n",
       "start_station_id      2064277\n",
       "end_station_name      2064277\n",
       "end_station_id        2064277\n",
       "start_lat             2064277\n",
       "start_lng             2064277\n",
       "end_lat               2064277\n",
       "end_lng               2064277\n",
       "member_casual         2064277\n",
       "dtype: int64"
      ]
     },
     "execution_count": 42,
     "metadata": {},
     "output_type": "execute_result"
    }
   ],
   "source": [
    "# Doing a count and removing any NaN values as a first step\n",
    "#april_twentyOne_df.count()\n",
    "april_twentyOne_clean_df=april_twentyOne_df.dropna(how=\"any\")\n",
    "april_twentyOne_clean_df.count()"
   ]
  },
  {
   "cell_type": "code",
   "execution_count": 47,
   "id": "d27cc427",
   "metadata": {},
   "outputs": [
    {
     "data": {
      "text/plain": [
       "Int64Index([592213, 592276, 592277, 592278, 592692, 592693], dtype='int64')"
      ]
     },
     "execution_count": 47,
     "metadata": {},
     "output_type": "execute_result"
    }
   ],
   "source": [
    "# Find indexes with text in \"start_station_id\"\n",
    "indexValues = april_twentyOne_clean_df[april_twentyOne_clean_df[\"start_station_id\"] == \"Lab - NYC\"].index\n",
    "indexValues\n"
   ]
  },
  {
   "cell_type": "code",
   "execution_count": 48,
   "id": "dd96a236",
   "metadata": {},
   "outputs": [
    {
     "name": "stderr",
     "output_type": "stream",
     "text": [
      "C:\\Users\\ivana\\Anaconda3\\lib\\site-packages\\pandas\\core\\frame.py:4308: SettingWithCopyWarning: \n",
      "A value is trying to be set on a copy of a slice from a DataFrame\n",
      "\n",
      "See the caveats in the documentation: https://pandas.pydata.org/pandas-docs/stable/user_guide/indexing.html#returning-a-view-versus-a-copy\n",
      "  return super().drop(\n"
     ]
    }
   ],
   "source": [
    "# Drop the indexes where \"start_station_id\" == \"Lab - NYC\"\n",
    "april_twentyOne_clean_df.drop(index=indexValues,axis=0,inplace=True)"
   ]
  },
  {
   "cell_type": "code",
   "execution_count": 50,
   "id": "69ec2a81",
   "metadata": {},
   "outputs": [
    {
     "data": {
      "text/plain": [
       "ride_id               2064271\n",
       "rideable_type         2064271\n",
       "started_at            2064271\n",
       "ended_at              2064271\n",
       "start_station_name    2064271\n",
       "start_station_id      2064271\n",
       "end_station_name      2064271\n",
       "end_station_id        2064271\n",
       "start_lat             2064271\n",
       "start_lng             2064271\n",
       "end_lat               2064271\n",
       "end_lng               2064271\n",
       "member_casual         2064271\n",
       "dtype: int64"
      ]
     },
     "execution_count": 50,
     "metadata": {},
     "output_type": "execute_result"
    }
   ],
   "source": [
    "april_twentyOne_clean_df.count()"
   ]
  },
  {
   "cell_type": "code",
   "execution_count": 51,
   "id": "69ddd78f",
   "metadata": {},
   "outputs": [
    {
     "name": "stderr",
     "output_type": "stream",
     "text": [
      "<ipython-input-51-e9ca38746e02>:2: SettingWithCopyWarning: \n",
      "A value is trying to be set on a copy of a slice from a DataFrame.\n",
      "Try using .loc[row_indexer,col_indexer] = value instead\n",
      "\n",
      "See the caveats in the documentation: https://pandas.pydata.org/pandas-docs/stable/user_guide/indexing.html#returning-a-view-versus-a-copy\n",
      "  april_twentyOne_clean_df[\"start_station_id\"]=pd.to_numeric(april_twentyOne_clean_df[\"start_station_id\"])\n"
     ]
    },
    {
     "data": {
      "text/plain": [
       "ride_id                object\n",
       "rideable_type          object\n",
       "started_at             object\n",
       "ended_at               object\n",
       "start_station_name     object\n",
       "start_station_id      float64\n",
       "end_station_name       object\n",
       "end_station_id         object\n",
       "start_lat             float64\n",
       "start_lng             float64\n",
       "end_lat               float64\n",
       "end_lng               float64\n",
       "member_casual          object\n",
       "dtype: object"
      ]
     },
     "execution_count": 51,
     "metadata": {},
     "output_type": "execute_result"
    }
   ],
   "source": [
    "# Changing start_station_id to numeric as per June 2021 data\n",
    "april_twentyOne_clean_df[\"start_station_id\"]=pd.to_numeric(april_twentyOne_clean_df[\"start_station_id\"])\n",
    "april_twentyOne_clean_df.dtypes"
   ]
  },
  {
   "cell_type": "markdown",
   "id": "d1938a76",
   "metadata": {},
   "source": [
    "## 3. Combined Dataframes and Export to CSV"
   ]
  },
  {
   "cell_type": "code",
   "execution_count": 53,
   "id": "f2457c89",
   "metadata": {},
   "outputs": [
    {
     "data": {
      "text/html": [
       "<div>\n",
       "<style scoped>\n",
       "    .dataframe tbody tr th:only-of-type {\n",
       "        vertical-align: middle;\n",
       "    }\n",
       "\n",
       "    .dataframe tbody tr th {\n",
       "        vertical-align: top;\n",
       "    }\n",
       "\n",
       "    .dataframe thead th {\n",
       "        text-align: right;\n",
       "    }\n",
       "</style>\n",
       "<table border=\"1\" class=\"dataframe\">\n",
       "  <thead>\n",
       "    <tr style=\"text-align: right;\">\n",
       "      <th></th>\n",
       "      <th>ride_id</th>\n",
       "      <th>rideable_type</th>\n",
       "      <th>started_at</th>\n",
       "      <th>ended_at</th>\n",
       "      <th>start_station_name</th>\n",
       "      <th>start_station_id</th>\n",
       "      <th>end_station_name</th>\n",
       "      <th>end_station_id</th>\n",
       "      <th>start_lat</th>\n",
       "      <th>start_lng</th>\n",
       "      <th>end_lat</th>\n",
       "      <th>end_lng</th>\n",
       "      <th>member_casual</th>\n",
       "    </tr>\n",
       "  </thead>\n",
       "  <tbody>\n",
       "    <tr>\n",
       "      <th>0</th>\n",
       "      <td>7099F9531C9DA16D</td>\n",
       "      <td>docked_bike</td>\n",
       "      <td>2021-04-28 17:27:24</td>\n",
       "      <td>2021-04-28 17:34:31</td>\n",
       "      <td>DeKalb Ave &amp; Hudson Ave</td>\n",
       "      <td>4513.06</td>\n",
       "      <td>Douglass St &amp; 4 Ave</td>\n",
       "      <td>4175.14</td>\n",
       "      <td>40.689888</td>\n",
       "      <td>-73.981013</td>\n",
       "      <td>40.679279</td>\n",
       "      <td>-73.981540</td>\n",
       "      <td>member</td>\n",
       "    </tr>\n",
       "    <tr>\n",
       "      <th>1</th>\n",
       "      <td>EDC6F1B1A69A7863</td>\n",
       "      <td>docked_bike</td>\n",
       "      <td>2021-04-27 17:28:02</td>\n",
       "      <td>2021-04-27 17:33:07</td>\n",
       "      <td>E 47 St &amp; Park Ave</td>\n",
       "      <td>6584.12</td>\n",
       "      <td>W 52 St &amp; 6 Ave</td>\n",
       "      <td>6740.01</td>\n",
       "      <td>40.755102</td>\n",
       "      <td>-73.974986</td>\n",
       "      <td>40.761330</td>\n",
       "      <td>-73.979820</td>\n",
       "      <td>member</td>\n",
       "    </tr>\n",
       "    <tr>\n",
       "      <th>2</th>\n",
       "      <td>431A76830E10408A</td>\n",
       "      <td>docked_bike</td>\n",
       "      <td>2021-04-28 18:05:19</td>\n",
       "      <td>2021-04-28 18:10:48</td>\n",
       "      <td>E 47 St &amp; Park Ave</td>\n",
       "      <td>6584.12</td>\n",
       "      <td>W 52 St &amp; 6 Ave</td>\n",
       "      <td>6740.01</td>\n",
       "      <td>40.755102</td>\n",
       "      <td>-73.974986</td>\n",
       "      <td>40.761330</td>\n",
       "      <td>-73.979820</td>\n",
       "      <td>member</td>\n",
       "    </tr>\n",
       "    <tr>\n",
       "      <th>3</th>\n",
       "      <td>C00248A0ADC009FA</td>\n",
       "      <td>docked_bike</td>\n",
       "      <td>2021-04-20 21:35:47</td>\n",
       "      <td>2021-04-20 21:56:31</td>\n",
       "      <td>Irving Ave &amp; DeKalb Ave</td>\n",
       "      <td>4898.02</td>\n",
       "      <td>Division Ave &amp; Hooper St</td>\n",
       "      <td>5045.05</td>\n",
       "      <td>40.702700</td>\n",
       "      <td>-73.920950</td>\n",
       "      <td>40.706842</td>\n",
       "      <td>-73.954435</td>\n",
       "      <td>casual</td>\n",
       "    </tr>\n",
       "    <tr>\n",
       "      <th>4</th>\n",
       "      <td>BE78810D746EE516</td>\n",
       "      <td>docked_bike</td>\n",
       "      <td>2021-04-30 00:34:54</td>\n",
       "      <td>2021-04-30 01:03:29</td>\n",
       "      <td>3 Ave &amp; E 112 St</td>\n",
       "      <td>7543.15</td>\n",
       "      <td>E 115 St &amp; Lexington Ave</td>\n",
       "      <td>7599.09</td>\n",
       "      <td>40.795508</td>\n",
       "      <td>-73.941606</td>\n",
       "      <td>40.797911</td>\n",
       "      <td>-73.942300</td>\n",
       "      <td>casual</td>\n",
       "    </tr>\n",
       "  </tbody>\n",
       "</table>\n",
       "</div>"
      ],
      "text/plain": [
       "            ride_id rideable_type           started_at             ended_at  \\\n",
       "0  7099F9531C9DA16D   docked_bike  2021-04-28 17:27:24  2021-04-28 17:34:31   \n",
       "1  EDC6F1B1A69A7863   docked_bike  2021-04-27 17:28:02  2021-04-27 17:33:07   \n",
       "2  431A76830E10408A   docked_bike  2021-04-28 18:05:19  2021-04-28 18:10:48   \n",
       "3  C00248A0ADC009FA   docked_bike  2021-04-20 21:35:47  2021-04-20 21:56:31   \n",
       "4  BE78810D746EE516   docked_bike  2021-04-30 00:34:54  2021-04-30 01:03:29   \n",
       "\n",
       "        start_station_name  start_station_id          end_station_name  \\\n",
       "0  DeKalb Ave & Hudson Ave           4513.06       Douglass St & 4 Ave   \n",
       "1       E 47 St & Park Ave           6584.12           W 52 St & 6 Ave   \n",
       "2       E 47 St & Park Ave           6584.12           W 52 St & 6 Ave   \n",
       "3  Irving Ave & DeKalb Ave           4898.02  Division Ave & Hooper St   \n",
       "4         3 Ave & E 112 St           7543.15  E 115 St & Lexington Ave   \n",
       "\n",
       "  end_station_id  start_lat  start_lng    end_lat    end_lng member_casual  \n",
       "0        4175.14  40.689888 -73.981013  40.679279 -73.981540        member  \n",
       "1        6740.01  40.755102 -73.974986  40.761330 -73.979820        member  \n",
       "2        6740.01  40.755102 -73.974986  40.761330 -73.979820        member  \n",
       "3        5045.05  40.702700 -73.920950  40.706842 -73.954435        casual  \n",
       "4        7599.09  40.795508 -73.941606  40.797911 -73.942300        casual  "
      ]
     },
     "execution_count": 53,
     "metadata": {},
     "output_type": "execute_result"
    }
   ],
   "source": [
    "# Combine the dataframes into a single dataframe\n",
    "frames = [april_twentyOne_clean_df,may_twentyOne_clean_df,june_twentyOne_clean_df]\n",
    "final_small_df = pd.concat(frames,axis=0,join=\"outer\",ignore_index=True)\n",
    "final_small_df.head()"
   ]
  },
  {
   "cell_type": "code",
   "execution_count": 54,
   "id": "18f78c34",
   "metadata": {},
   "outputs": [
    {
     "data": {
      "text/plain": [
       "ride_id               7950057\n",
       "rideable_type         7950057\n",
       "started_at            7950057\n",
       "ended_at              7950057\n",
       "start_station_name    7950057\n",
       "start_station_id      7950057\n",
       "end_station_name      7950057\n",
       "end_station_id        7950057\n",
       "start_lat             7950057\n",
       "start_lng             7950057\n",
       "end_lat               7950057\n",
       "end_lng               7950057\n",
       "member_casual         7950057\n",
       "dtype: int64"
      ]
     },
     "execution_count": 54,
     "metadata": {},
     "output_type": "execute_result"
    }
   ],
   "source": [
    "# Check that the concatenation successful - expect total of 7,950,057 rows with the three dataframes combined.\n",
    "final_small_df.count()"
   ]
  },
  {
   "cell_type": "code",
   "execution_count": 56,
   "id": "4940a52f",
   "metadata": {},
   "outputs": [],
   "source": [
    "# Export to csv file\n",
    "final_small_df.to_csv(\"clean_data/small_cleaned.csv\",index=False,header=True)"
   ]
  },
  {
   "cell_type": "code",
   "execution_count": 58,
   "id": "ba7580de",
   "metadata": {},
   "outputs": [
    {
     "data": {
      "text/plain": [
       "ride_id                object\n",
       "rideable_type          object\n",
       "started_at             object\n",
       "ended_at               object\n",
       "start_station_name     object\n",
       "start_station_id      float64\n",
       "end_station_name       object\n",
       "end_station_id         object\n",
       "start_lat             float64\n",
       "start_lng             float64\n",
       "end_lat               float64\n",
       "end_lng               float64\n",
       "member_casual          object\n",
       "dtype: object"
      ]
     },
     "execution_count": 58,
     "metadata": {},
     "output_type": "execute_result"
    }
   ],
   "source": [
    "final_small_df.dtypes"
   ]
  },
  {
   "cell_type": "code",
   "execution_count": null,
   "id": "c76300d1",
   "metadata": {},
   "outputs": [],
   "source": []
  }
 ],
 "metadata": {
  "kernelspec": {
   "display_name": "Python 3",
   "language": "python",
   "name": "python3"
  },
  "language_info": {
   "codemirror_mode": {
    "name": "ipython",
    "version": 3
   },
   "file_extension": ".py",
   "mimetype": "text/x-python",
   "name": "python",
   "nbconvert_exporter": "python",
   "pygments_lexer": "ipython3",
   "version": "3.8.8"
  }
 },
 "nbformat": 4,
 "nbformat_minor": 5
}
